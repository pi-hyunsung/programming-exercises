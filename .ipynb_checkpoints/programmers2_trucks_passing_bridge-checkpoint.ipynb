{
 "cells": [
  {
   "cell_type": "markdown",
   "metadata": {},
   "source": [
    "### Programmers - Coding Exercises Level 2 - 다리를 지나는 트럭\n",
    "- Source: https://programmers.co.kr/learn/courses/30/lessons/77484"
   ]
  },
  {
   "cell_type": "code",
   "execution_count": 1,
   "metadata": {},
   "outputs": [],
   "source": [
    "def solution(bridge_length, weight, truck_weights):\n",
    "    w_seq = [0] * bridge_length\n",
    "    w_sum = 0\n",
    "    for w in truck_weights:\n",
    "        while True:\n",
    "            if w_sum + w <= weight:\n",
    "                w_seq += [w]\n",
    "                w_sum = w_sum - w_seq[len(w_seq)-bridge_length] + w\n",
    "                break\n",
    "            else:\n",
    "                w_seq += [0]\n",
    "                w_sum = w_sum - w_seq[len(w_seq)-bridge_length]\n",
    "    answer = len(w_seq)\n",
    "    return answer"
   ]
  },
  {
   "cell_type": "markdown",
   "metadata": {},
   "source": [
    "**Input-Output Examples:**"
   ]
  },
  {
   "cell_type": "code",
   "execution_count": 2,
   "metadata": {},
   "outputs": [
    {
     "data": {
      "text/html": [
       "<div>\n",
       "<style scoped>\n",
       "    .dataframe tbody tr th:only-of-type {\n",
       "        vertical-align: middle;\n",
       "    }\n",
       "\n",
       "    .dataframe tbody tr th {\n",
       "        vertical-align: top;\n",
       "    }\n",
       "\n",
       "    .dataframe thead th {\n",
       "        text-align: right;\n",
       "    }\n",
       "</style>\n",
       "<table border=\"1\" class=\"dataframe\">\n",
       "  <thead>\n",
       "    <tr style=\"text-align: right;\">\n",
       "      <th></th>\n",
       "      <th>bridge_length</th>\n",
       "      <th>weight</th>\n",
       "      <th>truck_weights</th>\n",
       "      <th>return</th>\n",
       "    </tr>\n",
       "  </thead>\n",
       "  <tbody>\n",
       "    <tr>\n",
       "      <td>0</td>\n",
       "      <td>2</td>\n",
       "      <td>10</td>\n",
       "      <td>[7, 4, 5, 6]</td>\n",
       "      <td>8</td>\n",
       "    </tr>\n",
       "    <tr>\n",
       "      <td>1</td>\n",
       "      <td>100</td>\n",
       "      <td>100</td>\n",
       "      <td>[10]</td>\n",
       "      <td>101</td>\n",
       "    </tr>\n",
       "    <tr>\n",
       "      <td>2</td>\n",
       "      <td>100</td>\n",
       "      <td>100</td>\n",
       "      <td>[10, 10, 10, 10, 10, 10, 10, 10, 10, 10]</td>\n",
       "      <td>110</td>\n",
       "    </tr>\n",
       "  </tbody>\n",
       "</table>\n",
       "</div>"
      ],
      "text/plain": [
       "   bridge_length  weight                             truck_weights  return\n",
       "0              2      10                              [7, 4, 5, 6]       8\n",
       "1            100     100                                      [10]     101\n",
       "2            100     100  [10, 10, 10, 10, 10, 10, 10, 10, 10, 10]     110"
      ]
     },
     "execution_count": 2,
     "metadata": {},
     "output_type": "execute_result"
    }
   ],
   "source": [
    "import pandas as pd\n",
    "examples = pd.DataFrame([\n",
    "    [2, 10, [7,4,5,6], 8],\n",
    "    [100, 100, [10], 101],\n",
    "    [100, 100, [10,10,10,10,10,10,10,10,10,10], 110]\n",
    "], columns=[\"bridge_length\", \"weight\", \"truck_weights\", \"return\"])\n",
    "examples"
   ]
  },
  {
   "cell_type": "code",
   "execution_count": 3,
   "metadata": {},
   "outputs": [
    {
     "name": "stdout",
     "output_type": "stream",
     "text": [
      "8\n",
      "101\n",
      "110\n"
     ]
    }
   ],
   "source": [
    "print(solution(*examples.values[0, :-1].tolist()))\n",
    "print(solution(*examples.values[1, :-1].tolist()))\n",
    "print(solution(*examples.values[2, :-1].tolist()))"
   ]
  }
 ],
 "metadata": {
  "kernelspec": {
   "display_name": "Python 3",
   "language": "python",
   "name": "python3"
  },
  "language_info": {
   "codemirror_mode": {
    "name": "ipython",
    "version": 3
   },
   "file_extension": ".py",
   "mimetype": "text/x-python",
   "name": "python",
   "nbconvert_exporter": "python",
   "pygments_lexer": "ipython3",
   "version": "3.6.8"
  }
 },
 "nbformat": 4,
 "nbformat_minor": 2
}

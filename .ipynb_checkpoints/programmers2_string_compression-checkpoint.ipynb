{
 "cells": [
  {
   "cell_type": "markdown",
   "metadata": {},
   "source": [
    "### Programmers - Coding Exercises Level 2 - 문자열 압축\n",
    "- Source: https://programmers.co.kr/learn/courses/30/lessons/60057"
   ]
  },
  {
   "cell_type": "code",
   "execution_count": 1,
   "metadata": {},
   "outputs": [],
   "source": [
    "def compress(s, chunk_size=1):\n",
    "    counter = []\n",
    "    for i in range(0, len(s), chunk_size):\n",
    "        chunk = s[i:i + chunk_size]\n",
    "        if not counter or counter[-1][1] != chunk:\n",
    "            counter.append([1, chunk])\n",
    "        else:\n",
    "            counter[-1] = [counter[-1][0] + 1, chunk]\n",
    "    \n",
    "    s_short = ''\n",
    "    for c in counter:\n",
    "        if c[0] != 1:\n",
    "            s_short += str(c[0])\n",
    "        s_short += c[1]\n",
    "    \n",
    "    return s_short\n",
    "\n",
    "    \n",
    "def solution(s):\n",
    "    answer = 1000 if len(s) > 1 else 1\n",
    "    for k in range(1, len(s) // 2 + 1):\n",
    "        s_short = compress(s, k)\n",
    "        answer = min(answer, len(s_short))\n",
    "    return answer"
   ]
  },
  {
   "cell_type": "markdown",
   "metadata": {},
   "source": [
    "**Input-Output Examples:**"
   ]
  },
  {
   "cell_type": "code",
   "execution_count": 2,
   "metadata": {},
   "outputs": [
    {
     "data": {
      "text/html": [
       "<div>\n",
       "<style scoped>\n",
       "    .dataframe tbody tr th:only-of-type {\n",
       "        vertical-align: middle;\n",
       "    }\n",
       "\n",
       "    .dataframe tbody tr th {\n",
       "        vertical-align: top;\n",
       "    }\n",
       "\n",
       "    .dataframe thead th {\n",
       "        text-align: right;\n",
       "    }\n",
       "</style>\n",
       "<table border=\"1\" class=\"dataframe\">\n",
       "  <thead>\n",
       "    <tr style=\"text-align: right;\">\n",
       "      <th></th>\n",
       "      <th>s</th>\n",
       "      <th>return</th>\n",
       "    </tr>\n",
       "  </thead>\n",
       "  <tbody>\n",
       "    <tr>\n",
       "      <td>0</td>\n",
       "      <td>aabbaccc</td>\n",
       "      <td>7</td>\n",
       "    </tr>\n",
       "    <tr>\n",
       "      <td>1</td>\n",
       "      <td>ababcdcdababcdcd</td>\n",
       "      <td>9</td>\n",
       "    </tr>\n",
       "    <tr>\n",
       "      <td>2</td>\n",
       "      <td>abcabcdede</td>\n",
       "      <td>8</td>\n",
       "    </tr>\n",
       "    <tr>\n",
       "      <td>3</td>\n",
       "      <td>abcabcabcabcdededededede</td>\n",
       "      <td>14</td>\n",
       "    </tr>\n",
       "    <tr>\n",
       "      <td>4</td>\n",
       "      <td>xababcdcdababcdcd</td>\n",
       "      <td>17</td>\n",
       "    </tr>\n",
       "  </tbody>\n",
       "</table>\n",
       "</div>"
      ],
      "text/plain": [
       "                          s  return\n",
       "0                  aabbaccc       7\n",
       "1          ababcdcdababcdcd       9\n",
       "2                abcabcdede       8\n",
       "3  abcabcabcabcdededededede      14\n",
       "4         xababcdcdababcdcd      17"
      ]
     },
     "execution_count": 2,
     "metadata": {},
     "output_type": "execute_result"
    }
   ],
   "source": [
    "import pandas as pd\n",
    "examples = pd.DataFrame([\n",
    "    [\"aabbaccc\", 7],\n",
    "    [\"ababcdcdababcdcd\", 9],\n",
    "    [\"abcabcdede\", 8],\n",
    "    [\"abcabcabcabcdededededede\", 14],\n",
    "    [\"xababcdcdababcdcd\", 17]\n",
    "], columns=[\"s\", \"return\"])\n",
    "examples"
   ]
  },
  {
   "cell_type": "code",
   "execution_count": 3,
   "metadata": {},
   "outputs": [
    {
     "name": "stdout",
     "output_type": "stream",
     "text": [
      "7\n",
      "9\n",
      "8\n",
      "14\n",
      "17\n"
     ]
    }
   ],
   "source": [
    "print(solution(*examples.values[0, :-1].tolist()))\n",
    "print(solution(*examples.values[1, :-1].tolist()))\n",
    "print(solution(*examples.values[2, :-1].tolist()))\n",
    "print(solution(*examples.values[3, :-1].tolist()))\n",
    "print(solution(*examples.values[4, :-1].tolist()))"
   ]
  }
 ],
 "metadata": {
  "kernelspec": {
   "display_name": "Python 3",
   "language": "python",
   "name": "python3"
  },
  "language_info": {
   "codemirror_mode": {
    "name": "ipython",
    "version": 3
   },
   "file_extension": ".py",
   "mimetype": "text/x-python",
   "name": "python",
   "nbconvert_exporter": "python",
   "pygments_lexer": "ipython3",
   "version": "3.6.8"
  }
 },
 "nbformat": 4,
 "nbformat_minor": 2
}

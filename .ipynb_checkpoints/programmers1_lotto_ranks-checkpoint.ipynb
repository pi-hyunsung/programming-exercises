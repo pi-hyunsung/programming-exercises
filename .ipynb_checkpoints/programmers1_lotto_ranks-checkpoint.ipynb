{
 "cells": [
  {
   "cell_type": "markdown",
   "metadata": {},
   "source": [
    "### Programmers - Coding Exercises Level 1: 로또의 최고 순위와 최저 순위\n",
    "- Source: https://programmers.co.kr/learn/courses/30/lessons/77484"
   ]
  },
  {
   "cell_type": "code",
   "execution_count": 1,
   "metadata": {},
   "outputs": [],
   "source": [
    "from collections import Counter\n",
    "\n",
    "\n",
    "def solution(lottos, win_nums):\n",
    "    wrong_nums = Counter(lottos) - Counter(win_nums)\n",
    "    worst = sum(wrong_nums.values()) + 1\n",
    "    best = worst - wrong_nums[0]\n",
    "    answer = [min(best, 6), min(worst, 6)]\n",
    "    return answer"
   ]
  },
  {
   "cell_type": "markdown",
   "metadata": {},
   "source": [
    "**Input-Output Examples:**"
   ]
  },
  {
   "cell_type": "code",
   "execution_count": 2,
   "metadata": {},
   "outputs": [
    {
     "data": {
      "text/html": [
       "<div>\n",
       "<style scoped>\n",
       "    .dataframe tbody tr th:only-of-type {\n",
       "        vertical-align: middle;\n",
       "    }\n",
       "\n",
       "    .dataframe tbody tr th {\n",
       "        vertical-align: top;\n",
       "    }\n",
       "\n",
       "    .dataframe thead th {\n",
       "        text-align: right;\n",
       "    }\n",
       "</style>\n",
       "<table border=\"1\" class=\"dataframe\">\n",
       "  <thead>\n",
       "    <tr style=\"text-align: right;\">\n",
       "      <th></th>\n",
       "      <th>lottos</th>\n",
       "      <th>win_nums</th>\n",
       "      <th>return</th>\n",
       "    </tr>\n",
       "  </thead>\n",
       "  <tbody>\n",
       "    <tr>\n",
       "      <td>0</td>\n",
       "      <td>[44, 1, 0, 0, 31, 25]</td>\n",
       "      <td>[31, 10, 45, 1, 6, 19]</td>\n",
       "      <td>[3, 5]</td>\n",
       "    </tr>\n",
       "    <tr>\n",
       "      <td>1</td>\n",
       "      <td>[0, 0, 0, 0, 0, 0]</td>\n",
       "      <td>[38, 19, 20, 40, 15, 25]</td>\n",
       "      <td>[1, 6]</td>\n",
       "    </tr>\n",
       "    <tr>\n",
       "      <td>2</td>\n",
       "      <td>[45, 4, 35, 20, 3, 9]</td>\n",
       "      <td>[20, 9, 3, 45, 4, 35]</td>\n",
       "      <td>[1, 1]</td>\n",
       "    </tr>\n",
       "  </tbody>\n",
       "</table>\n",
       "</div>"
      ],
      "text/plain": [
       "                  lottos                  win_nums  return\n",
       "0  [44, 1, 0, 0, 31, 25]    [31, 10, 45, 1, 6, 19]  [3, 5]\n",
       "1     [0, 0, 0, 0, 0, 0]  [38, 19, 20, 40, 15, 25]  [1, 6]\n",
       "2  [45, 4, 35, 20, 3, 9]     [20, 9, 3, 45, 4, 35]  [1, 1]"
      ]
     },
     "execution_count": 2,
     "metadata": {},
     "output_type": "execute_result"
    }
   ],
   "source": [
    "import pandas as pd\n",
    "examples = pd.DataFrame([\n",
    "    [[44, 1, 0, 0, 31, 25], [31, 10, 45, 1, 6, 19], [3, 5]],\n",
    "    [[0, 0, 0, 0, 0, 0], [38, 19, 20, 40, 15, 25], [1, 6]],\n",
    "    [[45, 4, 35, 20, 3, 9], [20, 9, 3, 45, 4, 35], [1, 1]]\n",
    "], columns=['lottos', 'win_nums', 'return'])\n",
    "examples"
   ]
  },
  {
   "cell_type": "code",
   "execution_count": 3,
   "metadata": {},
   "outputs": [
    {
     "name": "stdout",
     "output_type": "stream",
     "text": [
      "[3, 5]\n",
      "[1, 6]\n",
      "[1, 1]\n"
     ]
    }
   ],
   "source": [
    "print(solution(*examples.values[0, :-1].tolist()))\n",
    "print(solution(*examples.values[1, :-1].tolist()))\n",
    "print(solution(*examples.values[2, :-1].tolist()))"
   ]
  }
 ],
 "metadata": {
  "kernelspec": {
   "display_name": "Python 3",
   "language": "python",
   "name": "python3"
  },
  "language_info": {
   "codemirror_mode": {
    "name": "ipython",
    "version": 3
   },
   "file_extension": ".py",
   "mimetype": "text/x-python",
   "name": "python",
   "nbconvert_exporter": "python",
   "pygments_lexer": "ipython3",
   "version": "3.6.8"
  }
 },
 "nbformat": 4,
 "nbformat_minor": 2
}

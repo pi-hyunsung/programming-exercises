{
 "cells": [
  {
   "cell_type": "markdown",
   "metadata": {},
   "source": [
    "### Programmers - Coding Exercises Level 2 - 게임 맵 최단거리\n",
    "- Source: https://programmers.co.kr/learn/courses/30/lessons/1844"
   ]
  },
  {
   "cell_type": "code",
   "execution_count": 1,
   "metadata": {},
   "outputs": [],
   "source": [
    "import numpy as np\n",
    "\n",
    "\n",
    "def solution(maps):\n",
    "    maps = np.pad(maps, ((1, 1), (1, 1)))\n",
    "    maps = np.where(maps, 10000, 0)\n",
    "    n = maps.shape[0] - 2\n",
    "    m = maps.shape[1] - 2\n",
    "    \n",
    "    maps[1, 1] = 1\n",
    "    cur_idxs = [(1, 1)]\n",
    "    next_idxs = []\n",
    "    \n",
    "    while cur_idxs:\n",
    "        for i, j in cur_idxs:\n",
    "            nbr_idxs = [(i - 1, j), (i + 1, j), (i, j - 1), (i, j + 1)]\n",
    "            for nbr_idx in nbr_idxs:\n",
    "                if maps[i, j] + 1  < maps[nbr_idx]:\n",
    "                    maps[nbr_idx] = maps[i, j] + 1\n",
    "                    next_idxs.append(nbr_idx)\n",
    "                    if nbr_idx == (n, m):\n",
    "                        return int(maps[n, m])\n",
    "                    \n",
    "        cur_idxs = next_idxs\n",
    "        next_idxs = []\n",
    "        \n",
    "    return -1"
   ]
  },
  {
   "cell_type": "markdown",
   "metadata": {},
   "source": [
    "**Input-Output Examples:**"
   ]
  },
  {
   "cell_type": "code",
   "execution_count": 2,
   "metadata": {},
   "outputs": [
    {
     "data": {
      "text/html": [
       "<div>\n",
       "<style scoped>\n",
       "    .dataframe tbody tr th:only-of-type {\n",
       "        vertical-align: middle;\n",
       "    }\n",
       "\n",
       "    .dataframe tbody tr th {\n",
       "        vertical-align: top;\n",
       "    }\n",
       "\n",
       "    .dataframe thead th {\n",
       "        text-align: right;\n",
       "    }\n",
       "</style>\n",
       "<table border=\"1\" class=\"dataframe\">\n",
       "  <thead>\n",
       "    <tr style=\"text-align: right;\">\n",
       "      <th></th>\n",
       "      <th>maps</th>\n",
       "      <th>return</th>\n",
       "    </tr>\n",
       "  </thead>\n",
       "  <tbody>\n",
       "    <tr>\n",
       "      <td>0</td>\n",
       "      <td>[[1, 0, 1, 1, 1], [1, 0, 1, 0, 1], [1, 0, 1, 1...</td>\n",
       "      <td>11</td>\n",
       "    </tr>\n",
       "    <tr>\n",
       "      <td>1</td>\n",
       "      <td>[[1, 0, 1, 1, 1], [1, 0, 1, 0, 1], [1, 0, 1, 1...</td>\n",
       "      <td>-1</td>\n",
       "    </tr>\n",
       "  </tbody>\n",
       "</table>\n",
       "</div>"
      ],
      "text/plain": [
       "                                                maps  return\n",
       "0  [[1, 0, 1, 1, 1], [1, 0, 1, 0, 1], [1, 0, 1, 1...      11\n",
       "1  [[1, 0, 1, 1, 1], [1, 0, 1, 0, 1], [1, 0, 1, 1...      -1"
      ]
     },
     "execution_count": 2,
     "metadata": {},
     "output_type": "execute_result"
    }
   ],
   "source": [
    "import pandas as pd\n",
    "examples = pd.DataFrame([\n",
    "    [[[1,0,1,1,1],[1,0,1,0,1],[1,0,1,1,1],[1,1,1,0,1],[0,0,0,0,1]], 11],\n",
    "    [[[1,0,1,1,1],[1,0,1,0,1],[1,0,1,1,1],[1,1,1,0,0],[0,0,0,0,1]], -1]\n",
    "], columns=[\"maps\", \"return\"])\n",
    "examples"
   ]
  },
  {
   "cell_type": "code",
   "execution_count": 3,
   "metadata": {},
   "outputs": [
    {
     "name": "stdout",
     "output_type": "stream",
     "text": [
      "11\n",
      "-1\n"
     ]
    }
   ],
   "source": [
    "print(solution(*examples.values[0, :-1].tolist()))\n",
    "print(solution(*examples.values[1, :-1].tolist()))"
   ]
  }
 ],
 "metadata": {
  "kernelspec": {
   "display_name": "Python 3",
   "language": "python",
   "name": "python3"
  },
  "language_info": {
   "codemirror_mode": {
    "name": "ipython",
    "version": 3
   },
   "file_extension": ".py",
   "mimetype": "text/x-python",
   "name": "python",
   "nbconvert_exporter": "python",
   "pygments_lexer": "ipython3",
   "version": "3.6.8"
  }
 },
 "nbformat": 4,
 "nbformat_minor": 2
}

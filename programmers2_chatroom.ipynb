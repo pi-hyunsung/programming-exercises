{
 "cells": [
  {
   "cell_type": "markdown",
   "metadata": {},
   "source": [
    "### Programmers - Coding Exercises Level 2 - 오픈채팅방\n",
    "- Source: https://programmers.co.kr/learn/courses/30/lessons/42888"
   ]
  },
  {
   "cell_type": "code",
   "execution_count": 1,
   "metadata": {},
   "outputs": [],
   "source": [
    "import pandas as pd\n",
    "\n",
    "\n",
    "def solution(record):\n",
    "    users = dict()\n",
    "    messages = []\n",
    "    \n",
    "    for line_str in record:\n",
    "        line_list = line_str.split(' ')\n",
    "        if line_list[0] == 'Enter':\n",
    "            users[line_list[1]] = line_list[2]\n",
    "            messages.append([line_list[1], '님이 들어왔습니다.'])\n",
    "        elif line_list[0] == 'Leave':\n",
    "            messages.append([line_list[1], '님이 나갔습니다.'])\n",
    "        elif line_list[0] == 'Change':\n",
    "            users[line_list[1]] = line_list[2]\n",
    "            \n",
    "    messages = pd.DataFrame(messages, columns=['id', 'message'])\n",
    "    messages['name'] = messages['id'].apply(lambda id: users[id])\n",
    "    answer = (messages['name'] + messages['message']).tolist()\n",
    "    return answer"
   ]
  },
  {
   "cell_type": "markdown",
   "metadata": {},
   "source": [
    "**Input-Output Examples:**"
   ]
  },
  {
   "cell_type": "code",
   "execution_count": 2,
   "metadata": {},
   "outputs": [
    {
     "data": {
      "text/html": [
       "<div>\n",
       "<style scoped>\n",
       "    .dataframe tbody tr th:only-of-type {\n",
       "        vertical-align: middle;\n",
       "    }\n",
       "\n",
       "    .dataframe tbody tr th {\n",
       "        vertical-align: top;\n",
       "    }\n",
       "\n",
       "    .dataframe thead th {\n",
       "        text-align: right;\n",
       "    }\n",
       "</style>\n",
       "<table border=\"1\" class=\"dataframe\">\n",
       "  <thead>\n",
       "    <tr style=\"text-align: right;\">\n",
       "      <th></th>\n",
       "      <th>record</th>\n",
       "      <th>return</th>\n",
       "    </tr>\n",
       "  </thead>\n",
       "  <tbody>\n",
       "    <tr>\n",
       "      <td>0</td>\n",
       "      <td>[Enter uid1234 Muzi, Enter uid4567 Prodo, Leav...</td>\n",
       "      <td>[Prodo님이 들어왔습니다., Ryan님이 들어왔습니다., Prodo님이 나갔습니...</td>\n",
       "    </tr>\n",
       "  </tbody>\n",
       "</table>\n",
       "</div>"
      ],
      "text/plain": [
       "                                              record  \\\n",
       "0  [Enter uid1234 Muzi, Enter uid4567 Prodo, Leav...   \n",
       "\n",
       "                                              return  \n",
       "0  [Prodo님이 들어왔습니다., Ryan님이 들어왔습니다., Prodo님이 나갔습니...  "
      ]
     },
     "execution_count": 2,
     "metadata": {},
     "output_type": "execute_result"
    }
   ],
   "source": [
    "import pandas as pd\n",
    "examples = pd.DataFrame([\n",
    "    [[\"Enter uid1234 Muzi\",\n",
    "      \"Enter uid4567 Prodo\",\n",
    "      \"Leave uid1234\",\n",
    "      \"Enter uid1234 Prodo\",\n",
    "      \"Change uid4567 Ryan\"],\n",
    "     [\"Prodo님이 들어왔습니다.\",\n",
    "      \"Ryan님이 들어왔습니다.\",\n",
    "      \"Prodo님이 나갔습니다.\",\n",
    "      \"Prodo님이 들어왔습니다.\"]]\n",
    "], columns=[\"record\", \"return\"])\n",
    "examples"
   ]
  },
  {
   "cell_type": "code",
   "execution_count": 3,
   "metadata": {},
   "outputs": [
    {
     "name": "stdout",
     "output_type": "stream",
     "text": [
      "['Prodo님이 들어왔습니다.', 'Ryan님이 들어왔습니다.', 'Prodo님이 나갔습니다.', 'Prodo님이 들어왔습니다.']\n"
     ]
    }
   ],
   "source": [
    "print(solution(*examples.values[0, :-1].tolist()))"
   ]
  }
 ],
 "metadata": {
  "kernelspec": {
   "display_name": "Python 3",
   "language": "python",
   "name": "python3"
  },
  "language_info": {
   "codemirror_mode": {
    "name": "ipython",
    "version": 3
   },
   "file_extension": ".py",
   "mimetype": "text/x-python",
   "name": "python",
   "nbconvert_exporter": "python",
   "pygments_lexer": "ipython3",
   "version": "3.6.8"
  }
 },
 "nbformat": 4,
 "nbformat_minor": 2
}
